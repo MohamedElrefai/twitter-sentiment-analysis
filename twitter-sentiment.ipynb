{
 "cells": [
  {
   "cell_type": "code",
   "execution_count": 1,
   "metadata": {
    "collapsed": true
   },
   "outputs": [],
   "source": [
    "#importing libraries\n",
    "import tweepy\n",
    "import pickle\n",
    "import re\n",
    "from tweepy import OAuthHandler\n",
    "import matplotlib.pyplot as plt\n",
    "%matplotlib inline"
   ]
  },
  {
   "cell_type": "code",
   "execution_count": 2,
   "metadata": {
    "collapsed": true
   },
   "outputs": [],
   "source": [
    "# I have made my keys and consumer for this app\n",
    "consumer_key=''\n",
    "consumer_secret=''\n",
    "\n",
    "access_token=''\n",
    "access_secret=''\n"
   ]
  },
  {
   "cell_type": "code",
   "execution_count": 3,
   "metadata": {
    "collapsed": true
   },
   "outputs": [],
   "source": [
    "#unique consumer key and secret\n",
    "auth=OAuthHandler(consumer_key,consumer_secret)\n",
    "#to access tweets\n",
    "auth.set_access_token(access_token,access_secret)\n",
    "\n",
    "args=['facebook']\n",
    "\n",
    "api=tweepy.API(auth,timeout=10)\n"
   ]
  },
  {
   "cell_type": "code",
   "execution_count": 5,
   "metadata": {
    "collapsed": true
   },
   "outputs": [],
   "source": [
    "#fetching 100 tweets from the api without retweets to remove duplicate\n",
    "query=args[0]\n",
    "tweets=[]\n",
    "if len(args)==1:\n",
    "    for status in tweepy.Cursor(api.search,q=query+\" -filter:retweets\",lang='en',result_type='recent').items(100):\n",
    "        tweets.append(status.text)\n"
   ]
  },
  {
   "cell_type": "code",
   "execution_count": 6,
   "metadata": {
    "collapsed": true
   },
   "outputs": [],
   "source": [
    "#our saved model let's open it to use it \n",
    "with open('vectorizer.pickle','rb') as f:\n",
    "    vectorizer=pickle.load(f)\n",
    "\n",
    "with open('classifier.pickle','rb') as f:\n",
    "    clf=pickle.load(f)\n"
   ]
  },
  {
   "cell_type": "code",
   "execution_count": 7,
   "metadata": {},
   "outputs": [
    {
     "name": "stdout",
     "output_type": "stream",
     "text": [
      "class is  [1]\n"
     ]
    }
   ],
   "source": [
    "#checking it's working okay\n",
    "print('class is ',clf.predict(vectorizer.transform([' you are a very good man i have ever seen'])))\n"
   ]
  },
  {
   "cell_type": "code",
   "execution_count": 8,
   "metadata": {
    "collapsed": true
   },
   "outputs": [],
   "source": [
    "#preprocess the tweets\n",
    "preprocessing=[]\n",
    "for tweet in tweets:\n",
    "    tweet=re.sub('http+\\S+','',tweet) #rempving https http \n",
    "    tweet=re.sub('\\W',' ',tweet)\n",
    "    tweet=tweet.lower()\n",
    "    tweet=re.sub('\\s+[a-zA-Z0-9]\\s+',' ',tweet)\n",
    "    tweet=re.sub('^[a-zA-Z0-9]\\s+',' ',tweet)\n",
    "    tweet=re.sub('\\s+',' ',tweet)\n",
    "    preprocessing.append(tweet)\n"
   ]
  },
  {
   "cell_type": "code",
   "execution_count": 9,
   "metadata": {
    "collapsed": true
   },
   "outputs": [],
   "source": [
    "#predict the labels for each tweet\n",
    "result=[]\n",
    "for tweet in preprocessing:\n",
    "    result.append(clf.predict(vectorizer.transform([tweet])))\n",
    "\n",
    "#counting negative tweets \n",
    "counting=0\n",
    "for res in result:\n",
    "    if res==0:\n",
    "        counting+=1\n"
   ]
  },
  {
   "cell_type": "code",
   "execution_count": 10,
   "metadata": {},
   "outputs": [
    {
     "data": {
      "text/plain": [
       "Text(0,0.5,'Numbers')"
      ]
     },
     "execution_count": 10,
     "metadata": {},
     "output_type": "execute_result"
    },
    {
     "data": {
      "image/png": "[encoded data removed]",
      "text/plain": [
       "<matplotlib.figure.Figure at 0x14c5c0f5f98>"
      ]
     },
     "metadata": {},
     "output_type": "display_data"
    }
   ],
   "source": [
    "plt.bar(['negative','positive'],[counting,100-counting])\n",
    "plt.title('100 tweets from API and differentiate between negative and positive class ')\n",
    "plt.ylabel('Numbers')"
   ]
  },
  {
   "cell_type": "code",
   "execution_count": null,
   "metadata": {
    "collapsed": true
   },
   "outputs": [],
   "source": []
  }
 ],
 "metadata": {
  "kernelspec": {
   "display_name": "Python 3",
   "language": "python",
   "name": "python3"
  },
  "language_info": {
   "codemirror_mode": {
    "name": "ipython",
    "version": 3
   },
   "file_extension": ".py",
   "mimetype": "text/x-python",
   "name": "python",
   "nbconvert_exporter": "python",
   "pygments_lexer": "ipython3",
   "version": "3.6.3"
  }
 },
 "nbformat": 4,
 "nbformat_minor": 2
}
